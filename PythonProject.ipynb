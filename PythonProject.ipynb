{
  "cells": [
    {
      "cell_type": "markdown",
      "metadata": {
        "id": "375nsEWtOi-n"
      },
      "source": [
        "---"
      ]
    },
    {
      "cell_type": "markdown",
      "metadata": {},
      "source": [
        "# Building a Simple To-Do List Application with Python"
      ]
    },
    {
      "cell_type": "markdown",
      "metadata": {},
      "source": [
        "## Objective:\n",
        "\n",
        " - To develop a simple command-line To-Do List application that uses list comprehensions,\n",
        " - dictionary comprehensions, and functional programming concepts \n",
        "~~~~\n",
        "    (\n",
        "    - **map**,\n",
        "    - **filter**,\n",
        "    - **reduce**\n",
        "    )\n",
        "~~~~\n",
        " - This project will help you understand how to use these Python features in practical scenarios.\n"
      ]
    },
    {
      "cell_type": "markdown",
      "metadata": {},
      "source": [
        "---"
      ]
    },
    {
      "cell_type": "markdown",
      "metadata": {},
      "source": [
        "# Instructions:\n"
      ]
    },
    {
      "cell_type": "markdown",
      "metadata": {},
      "source": [
        "## Project Overview:\n"
      ]
    },
    {
      "cell_type": "markdown",
      "metadata": {},
      "source": [
        "### Create a command-line application that allows users to ...\n",
        "~~~~\n",
        " - add,\n",
        " - remove,\n",
        " - view tasks,\n",
        " - view task lengths,\n",
        " - filter tasks by length,\n",
        " - and calculate the total length of all tasks.\n",
        "~~~~\n"
      ]
    },
    {
      "cell_type": "markdown",
      "metadata": {},
      "source": [
        "---"
      ]
    },
    {
      "cell_type": "markdown",
      "metadata": {},
      "source": [
        "# Requirements:"
      ]
    },
    {
      "cell_type": "markdown",
      "metadata": {},
      "source": [
        "### List Comprehension:\n",
        " - Use list comprehensions where applicable."
      ]
    },
    {
      "cell_type": "markdown",
      "metadata": {},
      "source": [
        "### Dict Comprehension:\n",
        " - Use dictionary comprehensions to store tasks."
      ]
    },
    {
      "cell_type": "markdown",
      "metadata": {},
      "source": [
        "### Functional Programming: Use \n",
        " - **map**,\n",
        " - **filter**,\n",
        " - and **reduce** for task processing."
      ]
    },
    {
      "cell_type": "markdown",
      "metadata": {},
      "source": [
        "---\n",
        "---\n",
        "---"
      ]
    },
    {
      "cell_type": "markdown",
      "metadata": {},
      "source": [
        "# Steps to Complete the Project:\n"
      ]
    },
    {
      "cell_type": "markdown",
      "metadata": {},
      "source": [
        "---\n",
        "---"
      ]
    },
    {
      "cell_type": "markdown",
      "metadata": {},
      "source": [
        "### Step 1: Initialize the Project\n"
      ]
    },
    {
      "cell_type": "markdown",
      "metadata": {},
      "source": [
        "### Create a Python file named - todo_list.py\n",
        "Define a **class ToDoList** to encapsulate all functionalities.\n",
        "~~~~py\n",
        "class ToDolist:\n",
        "    pass\n",
        "~~~~"
      ]
    },
    {
      "cell_type": "markdown",
      "metadata": {},
      "source": [
        "---"
      ]
    },
    {
      "cell_type": "markdown",
      "metadata": {},
      "source": [
        "### Step 2: Define the ToDoList Class\n",
        "Define the __init__ method to initialize an empty dictionary to store tasks.\n",
        "~~~~py\n",
        "def __init__(self)\n",
        "    pass\n",
        "~~~~"
      ]
    },
    {
      "cell_type": "markdown",
      "metadata": {},
      "source": [
        "---"
      ]
    },
    {
      "cell_type": "markdown",
      "metadata": {},
      "source": [
        "### Step 3: Implement Add and Remove Task Functions\n",
        "\n",
        "add_task(self, task): **Add a task** to the dictionary with a unique ID.\n",
        "\n",
        "~~~~py\n",
        "def add_task(self, task):\n",
        "    pass\n",
        "~~~~\n",
        "remove_task(self, task_id): **Remove a task** from the dictionary using the task ID.\n",
        "\n",
        "~~~~py\n",
        "def remove_task(self, task_id):\n",
        "    pass\n",
        "~~~~\n",
        "\n"
      ]
    },
    {
      "cell_type": "markdown",
      "metadata": {},
      "source": [
        "---"
      ]
    },
    {
      "cell_type": "markdown",
      "metadata": {},
      "source": [
        "### Step 4: Implement View Tasks Function\n",
        "\n",
        "view_tasks(self): **Print all tasks** with their IDs.\n",
        "~~~~py\n",
        "def view_tasks(self):\n",
        "    pass\n",
        "~~~~"
      ]
    },
    {
      "cell_type": "markdown",
      "metadata": {},
      "source": [
        "---"
      ]
    },
    {
      "cell_type": "markdown",
      "metadata": {},
      "source": [
        "### Step 5: Implement Functional Programming Methods\n",
        "\n",
        "get_task_lengths(self): Use **map** to create a list of task lengths.\n",
        "~~~~py\n",
        "def get_task_lengths(self):\n",
        "    pass\n",
        "~~~~\n",
        "\n",
        "get_long_tasks(self, min_length): Use **filter** to get tasks longer than min_length.\n",
        "~~~~py\n",
        "def get_long_tasks(self, min_length):\n",
        "    pass\n",
        "~~~~\n",
        "\n",
        "get_total_task_length(self): Use **reduce** to calculate the total length of all tasks.\n",
        "~~~~py\n",
        "def get_total_task_length(self):\n",
        "    pass\n",
        "~~~~"
      ]
    },
    {
      "cell_type": "markdown",
      "metadata": {},
      "source": [
        "---"
      ]
    },
    {
      "cell_type": "markdown",
      "metadata": {},
      "source": [
        "### Step 6: Implement the Main Program Loop\n",
        "Create a main loop to display a menu and call appropriate methods based on user input.\n",
        "~~~~py\n",
        "if __name__ == \"__main__\":\n",
        "    main()\n",
        "~~~~\n"
      ]
    },
    {
      "cell_type": "markdown",
      "metadata": {},
      "source": [
        "---"
      ]
    }
  ],
  "metadata": {
    "colab": {
      "provenance": []
    },
    "kernelspec": {
      "display_name": "Python 3",
      "name": "python3"
    },
    "language_info": {
      "name": "python"
    }
  },
  "nbformat": 4,
  "nbformat_minor": 0
}
